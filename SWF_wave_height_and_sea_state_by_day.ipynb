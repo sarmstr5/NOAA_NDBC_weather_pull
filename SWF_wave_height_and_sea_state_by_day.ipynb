{
 "cells": [
  {
   "cell_type": "code",
   "execution_count": null,
   "metadata": {},
   "outputs": [],
   "source": [
    "import pandas as pd\n",
    "import os\n",
    "import numpy as np"
   ]
  },
  {
   "cell_type": "code",
   "execution_count": null,
   "metadata": {},
   "outputs": [],
   "source": [
    "os.listdir(os.curdir)\n",
    "os.listdir(\"data\")"
   ]
  },
  {
   "cell_type": "code",
   "execution_count": null,
   "metadata": {},
   "outputs": [],
   "source": [
    "# pac_data_fn = 'data/SWFPAC_open_waters_buoy46088_sig_wave_height_2004_2019.csv'\n",
    "pac_data_fn = 'data/SWFPAC_open_waters_buoy248_sig_wave_height.csv'\n",
    "\n",
    "pac_df = pd.read_csv(pac_data_fn)\n",
    "# pac_df.columns = [\"date_time\", \"wave_height_(ft)\"]\n",
    "pac_df.columns = [\"date_time\", \"wave_height_(m)\"]\n",
    "pac_df.tail()"
   ]
  },
  {
   "cell_type": "code",
   "execution_count": null,
   "metadata": {},
   "outputs": [],
   "source": [
    "def remove_data_NAs(df):\n",
    "    #this dataset fills missing values with the value 99 (int)\n",
    "    df = df[df['wave_height_(ft)'] != 99]\n",
    "    return df\n",
    "\n",
    "# converting to metric for calculations (and sea state comparisons) and date_time for pandas\n",
    "# could create new column for meters, so there are feet and meters for comparisons\n",
    "def col_conversions(df):\n",
    "    ft_to_meters_ratio = 0.3048\n",
    "    df['wave_height_(ft)'] = df['wave_height_(ft)'].apply(lambda ft: ft*ft_to_meters_ratio)\n",
    "    df.columns = [\"date_time\", \"wave_height_(m)\"]\n",
    "    df['date_time'] = pd.to_datetime(df['date_time'])\n",
    "    df = df.set_index(\"date_time\")\n",
    "    return df\n",
    "\n",
    "def date_time_conversions(df):\n",
    "    df['date_time'] = pd.to_datetime(df['date_time'])\n",
    "    df = df.set_index(\"date_time\")\n",
    "    return df\n",
    "\n",
    "#sea state 1 - 0-.1, mean=0.05\n",
    "#sea state 2 - 0.1-.5, mean=0.30\n",
    "#sea state 3 - 0.5 - 1.25, mean = 0.88\n",
    "#sea state 4 - 1.25 - 2.5, mean = 1.88\n",
    "#sea state 5 - 2.5 - 4, mean = 3.25\n",
    "#sea state 6+ - 4<x\n",
    "def create_sea_state_col(df):\n",
    "    bins = [0, .1, 0.5, 1.25, 2.5, 4]\n",
    "    names = [1, 2, 3, 4, 5, 6] #maybe '6+'?\n",
    "    sea_state_dict = dict(enumerate(names, 1))\n",
    "    df['sea_state'] = np.vectorize(sea_state_dict.get)(np.digitize(df['wave_height_(m)'], bins))\n",
    "    return df\n"
   ]
  },
  {
   "cell_type": "code",
   "execution_count": null,
   "metadata": {},
   "outputs": [],
   "source": [
    "pac_df = remove_data_NAs(pac_df)\n",
    "pac_df = col_conversions(pac_df)\n",
    "pac_sea_state_df = create_sea_state_col(pac_df)\n",
    "pac_sea_state_df.head()"
   ]
  },
  {
   "cell_type": "code",
   "execution_count": null,
   "metadata": {},
   "outputs": [],
   "source": [
    "#CDIL changes\n",
    "pac_df = date_time_conversions(pac_df)\n",
    "pac_sea_state_df = create_sea_state_col(pac_df)\n",
    "pac_sea_state_df"
   ]
  },
  {
   "cell_type": "code",
   "execution_count": null,
   "metadata": {},
   "outputs": [],
   "source": [
    "pac_max_df = pac_sea_state_df.groupby(pd.Grouper(freq='D')).max()\n",
    "pac_max_df.head()"
   ]
  },
  {
   "cell_type": "code",
   "execution_count": null,
   "metadata": {},
   "outputs": [],
   "source": [
    "pac_sea_state_count_df = pac_max_df.groupby(by=\"sea_state\").agg('count')\n",
    "pac_sea_state_count_df\n",
    "pac_df.loc[\"2004-07-31\"]"
   ]
  },
  {
   "cell_type": "code",
   "execution_count": null,
   "metadata": {},
   "outputs": [],
   "source": [
    "pac_max_sea_state_fn = 'data/SWFPAC_open_waters_buoy46088_mWH&seastate_2004_2019.csv'\n",
    "pac_sea_state_count_fn = 'data/SWFPAC_open_waters_buoy46088_sea_state_counts_2004_2019.csv'"
   ]
  },
  {
   "cell_type": "code",
   "execution_count": null,
   "metadata": {},
   "outputs": [],
   "source": [
    "pac_max_df.to_csv(pac_max_sea_state_fn)\n",
    "pac_sea_state_count_df.to_csv(pac_sea_state_count_fn)"
   ]
  },
  {
   "cell_type": "code",
   "execution_count": null,
   "metadata": {},
   "outputs": [],
   "source": [
    "\"\"\" doing lant now\n",
    "-----------------------------------------\n",
    "\"\"\""
   ]
  },
  {
   "cell_type": "code",
   "execution_count": null,
   "metadata": {},
   "outputs": [],
   "source": [
    "lant_data_fn = 'data/SWFLANT_open_waters_buoy41112_sig_wave_height_2006_2019.csv'\n",
    "lant_df = pd.read_csv(lant_data_fn)\n",
    "lant_df.columns = [\"date_time\", \"wave_height_(ft)\"]\n",
    "lant_df.head()"
   ]
  },
  {
   "cell_type": "code",
   "execution_count": null,
   "metadata": {},
   "outputs": [],
   "source": [
    "lant_df = remove_data_NAs(lant_df)\n",
    "lant_df = col_conversions(lant_df)\n",
    "lant_sea_state_df = create_sea_state_col(lant_df)\n",
    "lant_sea_state_df.head()"
   ]
  },
  {
   "cell_type": "code",
   "execution_count": null,
   "metadata": {},
   "outputs": [],
   "source": [
    "lant_max_df = lant_sea_state_df.groupby(pd.Grouper(freq='D')).max()\n",
    "lant_max_df.head()"
   ]
  },
  {
   "cell_type": "code",
   "execution_count": null,
   "metadata": {},
   "outputs": [],
   "source": [
    "lant_sea_state_count_df = lant_max_df.groupby(by=\"sea_state\").agg('count')\n",
    "lant_sea_state_count_df\n",
    "# lant_df.loc[\"2004-07-31\"]"
   ]
  },
  {
   "cell_type": "code",
   "execution_count": null,
   "metadata": {},
   "outputs": [],
   "source": [
    "lant_max_sea_state_fn = 'data/SWFLANT_open_waters_buoy41112_mWH&seastate_2006_2019.csv'\n",
    "lant_sea_state_count_fn = 'data/SWFLANT_open_waters_buoy41112_sea_state_counts_2006_2019.csv'\n",
    "lant_max_df.to_csv(lant_max_sea_state_fn)\n",
    "lant_sea_state_count_df.to_csv(lant_sea_state_count_fn)"
   ]
  },
  {
   "cell_type": "code",
   "execution_count": null,
   "metadata": {},
   "outputs": [],
   "source": []
  },
  {
   "cell_type": "code",
   "execution_count": null,
   "metadata": {},
   "outputs": [],
   "source": []
  }
 ],
 "metadata": {
  "kernelspec": {
   "display_name": "Python py35",
   "language": "python",
   "name": "py35"
  },
  "language_info": {
   "codemirror_mode": {
    "name": "ipython",
    "version": 3
   },
   "file_extension": ".py",
   "mimetype": "text/x-python",
   "name": "python",
   "nbconvert_exporter": "python",
   "pygments_lexer": "ipython3",
   "version": "3.5.6"
  }
 },
 "nbformat": 4,
 "nbformat_minor": 4
}
